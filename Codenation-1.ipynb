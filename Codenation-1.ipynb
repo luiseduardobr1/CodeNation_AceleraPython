{
 "cells": [
  {
   "cell_type": "code",
   "execution_count": null,
   "metadata": {
    "ExecuteTime": {
     "end_time": "2020-05-02T15:18:55.483107Z",
     "start_time": "2020-05-02T15:18:55.480107Z"
    }
   },
   "outputs": [],
   "source": [
    "# Show all output's on Jupyter Notebook\n",
    "from IPython.core.interactiveshell import InteractiveShell\n",
    "InteractiveShell.ast_node_interactivity = \"all\""
   ]
  },
  {
   "cell_type": "code",
   "execution_count": null,
   "metadata": {
    "ExecuteTime": {
     "end_time": "2020-05-02T16:33:15.742380Z",
     "start_time": "2020-05-02T16:33:13.608258Z"
    }
   },
   "outputs": [],
   "source": [
    "import json\n",
    "import requests\n",
    "import string\n",
    "import hashlib\n",
    "\n",
    "# REGRAS\n",
    "# - As mensagens serão convertidas para minúsculas tanto para a criptografia quanto para descriptografia.\n",
    "# - No nosso caso os números e pontos serão mantidos, ou seja:\n",
    "# Normal: 1a.a\n",
    "# Cifrado: 1d.d\n",
    "\n",
    "# Requisição\n",
    "response = requests.get('https://api.codenation.dev/v1/challenge/dev-ps/generate-data?token=TOKEN')\n",
    "original_json = json.loads(response.text)\n",
    "\n",
    "# Arquivo JSON original\n",
    "original_json\n",
    "\n",
    "# Extrair número de casas a deslocar\n",
    "numero_casas=int(original_json['numero_casas'])\n",
    "\n",
    "# Decifrar texto\n",
    "decifrado=''\n",
    "for i in list(original_json['cifrado']):\n",
    "    if i in [' ','.',',','0','1','2','3','4','5','6','7','8','9']:\n",
    "        decifrado=decifrado+i\n",
    "    else:\n",
    "        posicao = string.ascii_lowercase.index(i)\n",
    "        decifrado=decifrado+string.ascii_lowercase[posicao-numero_casas]\n",
    "\n",
    "# Texto decifrado\n",
    "decifrado\n",
    "\n",
    "# Converter para sha1\n",
    "decifrado_sha1 = hashlib.sha1(decifrado.encode()).hexdigest() \n",
    "decifrado_sha1\n",
    "\n",
    "# Arquivo json final\n",
    "answer_json = original_json\n",
    "answer_json['decifrado'] = decifrado\n",
    "answer_json['resumo_criptografico'] = decifrado_sha1\n",
    "answer_json\n",
    "\n",
    "# Salvando arquivo JSON\n",
    "with open('answer.json', 'w') as outfile:\n",
    "    json.dump(answer_json, outfile)\n",
    "        \n",
    "# Lendo arquivo JSON   \n",
    "files = {'answer': open('answer.json', 'rb')}\n",
    "\n",
    "# Requests POST\n",
    "url='https://api.codenation.dev/v1/challenge/dev-ps/submit-solution?token=TOKEN'\n",
    "r = requests.post(url, files=files)\n",
    "print(r.text)\n"
   ]
  }
 ],
 "metadata": {
  "hide_input": false,
  "kernelspec": {
   "display_name": "Python 3",
   "language": "python",
   "name": "python3"
  },
  "language_info": {
   "codemirror_mode": {
    "name": "ipython",
    "version": 3
   },
   "file_extension": ".py",
   "mimetype": "text/x-python",
   "name": "python",
   "nbconvert_exporter": "python",
   "pygments_lexer": "ipython3",
   "version": "3.7.6"
  },
  "toc": {
   "base_numbering": 1,
   "nav_menu": {},
   "number_sections": true,
   "sideBar": true,
   "skip_h1_title": false,
   "title_cell": "Table of Contents",
   "title_sidebar": "Contents",
   "toc_cell": false,
   "toc_position": {},
   "toc_section_display": true,
   "toc_window_display": false
  },
  "varInspector": {
   "cols": {
    "lenName": 16,
    "lenType": 16,
    "lenVar": 40
   },
   "kernels_config": {
    "python": {
     "delete_cmd_postfix": "",
     "delete_cmd_prefix": "del ",
     "library": "var_list.py",
     "varRefreshCmd": "print(var_dic_list())"
    },
    "r": {
     "delete_cmd_postfix": ") ",
     "delete_cmd_prefix": "rm(",
     "library": "var_list.r",
     "varRefreshCmd": "cat(var_dic_list()) "
    }
   },
   "types_to_exclude": [
    "module",
    "function",
    "builtin_function_or_method",
    "instance",
    "_Feature"
   ],
   "window_display": false
  }
 },
 "nbformat": 4,
 "nbformat_minor": 4
}
